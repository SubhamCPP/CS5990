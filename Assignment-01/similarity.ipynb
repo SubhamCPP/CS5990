{
 "cells": [
  {
   "cell_type": "code",
   "execution_count": 1,
   "metadata": {},
   "outputs": [],
   "source": [
    "# -------------------------------------------------------------------------\n",
    "# AUTHOR: Subham Panda\n",
    "# FILENAME: similarity\n",
    "# SPECIFICATION: Performed term frequency and finding cosine similarity\n",
    "# FOR: CS 5990 (Advanced Data Mining) - Assignment #1\n",
    "# TIME SPENT: 30 Minutes\n",
    "# -----------------------------------------------------------*/"
   ]
  },
  {
   "cell_type": "code",
   "execution_count": 2,
   "metadata": {},
   "outputs": [],
   "source": [
    "# Importing some Python libraries\n",
    "import numpy as np\n",
    "from sklearn.metrics.pairwise import cosine_similarity\n",
    "from sklearn.feature_extraction.text import CountVectorizer"
   ]
  },
  {
   "cell_type": "code",
   "execution_count": 3,
   "metadata": {},
   "outputs": [],
   "source": [
    "\n",
    "# Defining the documents\n",
    "doc1 = \"soccer is my favorite sport\"\n",
    "doc2 = \"I like sports and my favorite one is soccer\"\n",
    "doc3 = \"support soccer at the olympic games\"\n",
    "doc4 = \"I do like soccer, my favorite sport in the olympic games\"\n"
   ]
  },
  {
   "cell_type": "code",
   "execution_count": 4,
   "metadata": {},
   "outputs": [
    {
     "data": {
      "text/plain": [
       "array([[1, 1, 1, 0, 0, 0, 0, 0],\n",
       "       [1, 1, 0, 1, 1, 0, 0, 0],\n",
       "       [1, 0, 0, 0, 0, 1, 1, 1],\n",
       "       [1, 1, 1, 1, 0, 0, 1, 1]])"
      ]
     },
     "execution_count": 4,
     "metadata": {},
     "output_type": "execute_result"
    }
   ],
   "source": [
    "\n",
    "# Use the following words as terms to create your document-term matrix\n",
    "# [soccer, favorite, sport, like, one, support, olympic, games]\n",
    "# --> Add your Python code here\n",
    "\n",
    "# Defining the terms for the document-term matrix\n",
    "terms = [\"soccer\", \"favorite\", \"sport\", \"like\", \"one\", \"support\", \"olympic\", \"games\"]\n",
    "\n",
    "# Creating the CountVectorizer object with the predefined vocabulary\n",
    "vectorizer = CountVectorizer(vocabulary=terms)\n",
    "\n",
    "# Compiling all documents into a list for vectorization\n",
    "documents = [doc1, doc2, doc3, doc4]\n",
    "\n",
    "# Vectorizing the documents to create the document-term matrix\n",
    "X = vectorizer.fit_transform(documents).toarray()\n",
    "X"
   ]
  },
  {
   "cell_type": "code",
   "execution_count": 5,
   "metadata": {},
   "outputs": [
    {
     "data": {
      "text/plain": [
       "array([[1.        , 0.57735027, 0.28867513, 0.70710678],\n",
       "       [0.57735027, 1.        , 0.25      , 0.61237244],\n",
       "       [0.28867513, 0.25      , 1.        , 0.61237244],\n",
       "       [0.70710678, 0.61237244, 0.61237244, 1.        ]])"
      ]
     },
     "execution_count": 5,
     "metadata": {},
     "output_type": "execute_result"
    }
   ],
   "source": [
    "\n",
    "# Compare the pairwise cosine similarities and store the highest one\n",
    "# Use cosine_similarity([X], [Y]) to calculate the similarities between 2 vectors only\n",
    "# Use cosine_similarity([X, Y, Z]) to calculate the pairwise similarities between multiple vectors\n",
    "# --> Add your Python code here\n",
    "\n",
    "# Calculating pairwise cosine similarities\n",
    "cosine_similarities = cosine_similarity(X)\n",
    "cosine_similarities\n"
   ]
  },
  {
   "cell_type": "code",
   "execution_count": 6,
   "metadata": {},
   "outputs": [
    {
     "name": "stdout",
     "output_type": "stream",
     "text": [
      "The most similar documents are: doc1 and doc4 with cosine similarity = 0.71\n"
     ]
    }
   ],
   "source": [
    "\n",
    "\n",
    "# Print the highest cosine similarity following the information below\n",
    "# The most similar documents are: doc1 and doc2 with cosine similarity = x\n",
    "# --> Add your Python code here\n",
    "\n",
    "# Initializing variables to store the indexes of the most similar documents and the highest similarity score\n",
    "max_similarity = 0\n",
    "doc_index1 = 0\n",
    "doc_index2 = 0\n",
    "\n",
    "\n",
    "# Iterating through the cosine similarity matrix to find the highest similarity score (excluding self-comparisons)\n",
    "for i in range(len(cosine_similarities)):\n",
    "    for j in range(i + 1, len(cosine_similarities)):\n",
    "        if cosine_similarities[i][j] > max_similarity:\n",
    "            max_similarity = cosine_similarities[i][j]\n",
    "            doc_index1, doc_index2 = i, j\n",
    "\n",
    "# Printing the most similar documents and their cosine similarity\n",
    "print(f\"The most similar documents are: doc{doc_index1 + 1} and doc{doc_index2 + 1} with cosine similarity = {max_similarity:.2f}\")\n"
   ]
  },
  {
   "cell_type": "code",
   "execution_count": null,
   "metadata": {},
   "outputs": [],
   "source": []
  }
 ],
 "metadata": {
  "kernelspec": {
   "display_name": "Python 3",
   "language": "python",
   "name": "python3"
  },
  "language_info": {
   "codemirror_mode": {
    "name": "ipython",
    "version": 3
   },
   "file_extension": ".py",
   "mimetype": "text/x-python",
   "name": "python",
   "nbconvert_exporter": "python",
   "pygments_lexer": "ipython3",
   "version": "3.9.6"
  }
 },
 "nbformat": 4,
 "nbformat_minor": 2
}
